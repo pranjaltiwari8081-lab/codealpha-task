{
  "nbformat": 4,
  "nbformat_minor": 0,
  "metadata": {
    "colab": {
      "provenance": [],
      "authorship_tag": "ABX9TyPjExbHM1K69kmRALGA+KxW",
      "include_colab_link": true
    },
    "kernelspec": {
      "name": "python3",
      "display_name": "Python 3"
    },
    "language_info": {
      "name": "python"
    }
  },
  "cells": [
    {
      "cell_type": "markdown",
      "metadata": {
        "id": "view-in-github",
        "colab_type": "text"
      },
      "source": [
        "<a href=\"https://colab.research.google.com/github/pranjaltiwari8081-lab/codealpha-task/blob/main/codealphatask4.ipynb\" target=\"_parent\"><img src=\"https://colab.research.google.com/assets/colab-badge.svg\" alt=\"Open In Colab\"/></a>"
      ]
    },
    {
      "cell_type": "code",
      "execution_count": null,
      "metadata": {
        "colab": {
          "base_uri": "https://localhost:8080/"
        },
        "id": "0FWvprv-t71y",
        "outputId": "2f6a5606-89ae-4fc8-bc01-7ec5ffd94bb1"
      },
      "outputs": [
        {
          "output_type": "stream",
          "name": "stdout",
          "text": [
            "(42, 133)\n",
            "   itching  skin_rash  nodal_skin_eruptions  continuous_sneezing  shivering  \\\n",
            "0        1          1                     1                    0          0   \n",
            "1        0          0                     0                    1          1   \n",
            "2        0          0                     0                    0          0   \n",
            "3        1          0                     0                    0          0   \n",
            "4        1          1                     0                    0          0   \n",
            "\n",
            "   chills  joint_pain  stomach_pain  acidity  ulcers_on_tongue  ...  \\\n",
            "0       0           0             0        0                 0  ...   \n",
            "1       1           0             0        0                 0  ...   \n",
            "2       0           0             1        1                 1  ...   \n",
            "3       0           0             0        0                 0  ...   \n",
            "4       0           0             1        0                 0  ...   \n",
            "\n",
            "   blackheads  scurring  skin_peeling  silver_like_dusting  \\\n",
            "0           0         0             0                    0   \n",
            "1           0         0             0                    0   \n",
            "2           0         0             0                    0   \n",
            "3           0         0             0                    0   \n",
            "4           0         0             0                    0   \n",
            "\n",
            "   small_dents_in_nails  inflammatory_nails  blister  red_sore_around_nose  \\\n",
            "0                     0                   0        0                     0   \n",
            "1                     0                   0        0                     0   \n",
            "2                     0                   0        0                     0   \n",
            "3                     0                   0        0                     0   \n",
            "4                     0                   0        0                     0   \n",
            "\n",
            "   yellow_crust_ooze            prognosis  \n",
            "0                  0     Fungal infection  \n",
            "1                  0              Allergy  \n",
            "2                  0                 GERD  \n",
            "3                  0  Chronic cholestasis  \n",
            "4                  0        Drug Reaction  \n",
            "\n",
            "[5 rows x 133 columns]\n",
            "prognosis\n",
            "Fungal infection                           2\n",
            "Allergy                                    1\n",
            "GERD                                       1\n",
            "Chronic cholestasis                        1\n",
            "Drug Reaction                              1\n",
            "Peptic ulcer diseae                        1\n",
            "AIDS                                       1\n",
            "Diabetes                                   1\n",
            "Gastroenteritis                            1\n",
            "Bronchial Asthma                           1\n",
            "Hypertension                               1\n",
            "Migraine                                   1\n",
            "Cervical spondylosis                       1\n",
            "Paralysis (brain hemorrhage)               1\n",
            "Jaundice                                   1\n",
            "Malaria                                    1\n",
            "Chicken pox                                1\n",
            "Dengue                                     1\n",
            "Typhoid                                    1\n",
            "hepatitis A                                1\n",
            "Hepatitis B                                1\n",
            "Hepatitis C                                1\n",
            "Hepatitis D                                1\n",
            "Hepatitis E                                1\n",
            "Alcoholic hepatitis                        1\n",
            "Tuberculosis                               1\n",
            "Common Cold                                1\n",
            "Pneumonia                                  1\n",
            "Dimorphic hemmorhoids(piles)               1\n",
            "Heart attack                               1\n",
            "Varicose veins                             1\n",
            "Hypothyroidism                             1\n",
            "Hyperthyroidism                            1\n",
            "Hypoglycemia                               1\n",
            "Osteoarthristis                            1\n",
            "Arthritis                                  1\n",
            "(vertigo) Paroymsal  Positional Vertigo    1\n",
            "Acne                                       1\n",
            "Urinary tract infection                    1\n",
            "Psoriasis                                  1\n",
            "Impetigo                                   1\n",
            "Name: count, dtype: int64\n"
          ]
        }
      ],
      "source": [
        "import pandas as pd\n",
        "\n",
        "df = pd.read_csv(\"Training.csv\")\n",
        "print(df.shape)\n",
        "print(df.head())\n",
        "print(df['prognosis'].value_counts())\n"
      ]
    },
    {
      "cell_type": "code",
      "source": [
        "from sklearn.model_selection import train_test_split\n",
        "from sklearn.preprocessing import LabelEncoder\n",
        "\n",
        "X = df.drop('prognosis', axis=1)\n",
        "y = df['prognosis']\n",
        "\n",
        "le = LabelEncoder()\n",
        "y = le.fit_transform(y)\n",
        "\n",
        "X_train, X_test, y_train, y_test = train_test_split(X, y, test_size=0.2, random_state=42)\n",
        "\n"
      ],
      "metadata": {
        "id": "wo1vf6N4wTp1"
      },
      "execution_count": null,
      "outputs": []
    },
    {
      "cell_type": "code",
      "source": [
        "from sklearn.ensemble import RandomForestClassifier\n",
        "from sklearn.metrics import accuracy_score, classification_report, confusion_matrix\n",
        "\n",
        "model = RandomForestClassifier(n_estimators=100, random_state=42)\n",
        "model.fit(X_train, y_train)\n",
        "\n",
        "y_pred = model.predict(X_test)\n",
        "\n",
        "print(\"Accuracy:\", accuracy_score(y_test, y_pred))\n",
        "print(classification_report(y_test, y_pred))\n"
      ],
      "metadata": {
        "colab": {
          "base_uri": "https://localhost:8080/"
        },
        "id": "o0Eq8KwbwVeg",
        "outputId": "6b3426bd-4c87-48f9-8f6e-66a6604da912"
      },
      "execution_count": null,
      "outputs": [
        {
          "output_type": "stream",
          "name": "stdout",
          "text": [
            "Accuracy: 0.0\n",
            "              precision    recall  f1-score   support\n",
            "\n",
            "           0       0.00      0.00      0.00       0.0\n",
            "          10       0.00      0.00      0.00       1.0\n",
            "          12       0.00      0.00      0.00       0.0\n",
            "          14       0.00      0.00      0.00       1.0\n",
            "          15       0.00      0.00      0.00       0.0\n",
            "          16       0.00      0.00      0.00       0.0\n",
            "          17       0.00      0.00      0.00       1.0\n",
            "          18       0.00      0.00      0.00       1.0\n",
            "          21       0.00      0.00      0.00       0.0\n",
            "          29       0.00      0.00      0.00       0.0\n",
            "          32       0.00      0.00      0.00       1.0\n",
            "          34       0.00      0.00      0.00       0.0\n",
            "          35       0.00      0.00      0.00       1.0\n",
            "          36       0.00      0.00      0.00       1.0\n",
            "          39       0.00      0.00      0.00       1.0\n",
            "          40       0.00      0.00      0.00       1.0\n",
            "\n",
            "    accuracy                           0.00       9.0\n",
            "   macro avg       0.00      0.00      0.00       9.0\n",
            "weighted avg       0.00      0.00      0.00       9.0\n",
            "\n"
          ]
        },
        {
          "output_type": "stream",
          "name": "stderr",
          "text": [
            "/usr/local/lib/python3.12/dist-packages/sklearn/metrics/_classification.py:1565: UndefinedMetricWarning: Precision is ill-defined and being set to 0.0 in labels with no predicted samples. Use `zero_division` parameter to control this behavior.\n",
            "  _warn_prf(average, modifier, f\"{metric.capitalize()} is\", len(result))\n",
            "/usr/local/lib/python3.12/dist-packages/sklearn/metrics/_classification.py:1565: UndefinedMetricWarning: Recall is ill-defined and being set to 0.0 in labels with no true samples. Use `zero_division` parameter to control this behavior.\n",
            "  _warn_prf(average, modifier, f\"{metric.capitalize()} is\", len(result))\n",
            "/usr/local/lib/python3.12/dist-packages/sklearn/metrics/_classification.py:1565: UndefinedMetricWarning: Precision is ill-defined and being set to 0.0 in labels with no predicted samples. Use `zero_division` parameter to control this behavior.\n",
            "  _warn_prf(average, modifier, f\"{metric.capitalize()} is\", len(result))\n",
            "/usr/local/lib/python3.12/dist-packages/sklearn/metrics/_classification.py:1565: UndefinedMetricWarning: Recall is ill-defined and being set to 0.0 in labels with no true samples. Use `zero_division` parameter to control this behavior.\n",
            "  _warn_prf(average, modifier, f\"{metric.capitalize()} is\", len(result))\n",
            "/usr/local/lib/python3.12/dist-packages/sklearn/metrics/_classification.py:1565: UndefinedMetricWarning: Precision is ill-defined and being set to 0.0 in labels with no predicted samples. Use `zero_division` parameter to control this behavior.\n",
            "  _warn_prf(average, modifier, f\"{metric.capitalize()} is\", len(result))\n",
            "/usr/local/lib/python3.12/dist-packages/sklearn/metrics/_classification.py:1565: UndefinedMetricWarning: Recall is ill-defined and being set to 0.0 in labels with no true samples. Use `zero_division` parameter to control this behavior.\n",
            "  _warn_prf(average, modifier, f\"{metric.capitalize()} is\", len(result))\n"
          ]
        }
      ]
    },
    {
      "cell_type": "code",
      "source": [
        "import matplotlib.pyplot as plt\n",
        "import seaborn as sns\n",
        "\n",
        "cm = confusion_matrix(y_test, y_pred)\n",
        "plt.figure(figsize=(12, 8))\n",
        "sns.heatmap(cm, cmap='Blues', annot=False)\n",
        "plt.title(\"Confusion Matrix\")\n",
        "plt.show()\n"
      ],
      "metadata": {
        "colab": {
          "base_uri": "https://localhost:8080/",
          "height": 400
        },
        "id": "knz7pZA5wYsM",
        "outputId": "f9f62944-d4ab-4853-9e10-02f86b1eedfc"
      },
      "execution_count": null,
      "outputs": [
        {
          "output_type": "display_data",
          "data": {
            "text/plain": [
              "<Figure size 1200x800 with 2 Axes>"
            ],
            "image/png": "[encoded data removed]"
          },
          "metadata": {}
        }
      ]
    },
    {
      "cell_type": "code",
      "source": [
        "sample = X.iloc[0].values.reshape(1, -1)\n",
        "predicted = model.predict(sample)\n",
        "print(\"Predicted Disease:\", le.inverse_transform(predicted)[0])\n"
      ],
      "metadata": {
        "colab": {
          "base_uri": "https://localhost:8080/"
        },
        "id": "RjaQ2uPnwcPQ",
        "outputId": "0c4ebcf4-71e5-40f8-e14d-54c52de770a7"
      },
      "execution_count": null,
      "outputs": [
        {
          "output_type": "stream",
          "name": "stdout",
          "text": [
            "Predicted Disease: Fungal infection\n"
          ]
        },
        {
          "output_type": "stream",
          "name": "stderr",
          "text": [
            "/usr/local/lib/python3.12/dist-packages/sklearn/utils/validation.py:2739: UserWarning: X does not have valid feature names, but RandomForestClassifier was fitted with feature names\n",
            "  warnings.warn(\n"
          ]
        }
      ]
    },
    {
      "cell_type": "code",
      "source": [],
      "metadata": {
        "id": "NyGWkdHbwgLe"
      },
      "execution_count": null,
      "outputs": []
    }
  ]
}